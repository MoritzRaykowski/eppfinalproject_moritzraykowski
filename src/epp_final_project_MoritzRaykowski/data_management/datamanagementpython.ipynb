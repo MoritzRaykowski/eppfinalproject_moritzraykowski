{
 "cells": [
  {
   "cell_type": "code",
   "execution_count": 71,
   "metadata": {},
   "outputs": [],
   "source": [
    "import pandas as pd\n",
    "import numpy as np\n",
    "import os \n",
    "from pathlib import Path"
   ]
  },
  {
   "cell_type": "code",
   "execution_count": 72,
   "metadata": {},
   "outputs": [],
   "source": [
    "#changing directory to automatically retrieve the raw data\n",
    "\n",
    "directory1 = Path.home() / 'Desktop' / 'epp_repo' / 'eppfinalproject_moritzraykowski' / 'src' / 'epp_final_project_MoritzRaykowski' / 'data'"
   ]
  },
  {
   "cell_type": "code",
   "execution_count": 73,
   "metadata": {},
   "outputs": [],
   "source": [
    "os.chdir(directory1)"
   ]
  },
  {
   "cell_type": "code",
   "execution_count": 74,
   "metadata": {},
   "outputs": [],
   "source": [
    "df = pd.read_excel('surveydataraw.xls', sheet_name='Sheet1')"
   ]
  },
  {
   "cell_type": "code",
   "execution_count": 75,
   "metadata": {},
   "outputs": [],
   "source": [
    "# replacing unclear survey answers with missings\n",
    "replaced_strings = ['unknown', 'no ans', 'no value', 'not fixed']\n",
    "for string in replaced_strings:\n",
    "    df.replace(string, np.nan, inplace=True )"
   ]
  },
  {
   "cell_type": "code",
   "execution_count": 76,
   "metadata": {},
   "outputs": [],
   "source": [
    "# the survey has  multiple choice questions leading to categorial and ordinal variables which I encode using a map\n",
    "map = {'Nein': 0, 'Ja': 1}\n",
    "df = df.assign(\n",
    "    partymember_encoded = df['partymember'].map(map),\n",
    "    disabled_encoded = df['disabled'].map(map),\n",
    "    reelection_coming_encoded = df['reelection_coming'].map(map),\n",
    "    council_terms_encoded = df['council_terms'].map(map),\n",
    "    council_existence_encoded = df['council_existence'].map(map),\n",
    "    electoral_terms_encoded = df['electoral_terms'].map(map),\n",
    "    existence_representative_encoded = df['existence_representative'].map(map),\n",
    ")"
   ]
  },
  {
   "cell_type": "code",
   "execution_count": 77,
   "metadata": {},
   "outputs": [],
   "source": [
    "# these variables have missings and are of data type object when imported so I coerce them to be numeric\n",
    "object_cols = ['date_position_established', 'budget', 'duration_terms_in_years', 'council_term_length', 'date_council_established', 'disability_degree']\n",
    "for col in object_cols:\n",
    "    df[col] = pd.to_numeric(df[col], errors='coerce')"
   ]
  },
  {
   "cell_type": "code",
   "execution_count": 78,
   "metadata": {},
   "outputs": [],
   "source": [
    "# for more complex ordinal variables I use a map that gives numeric equivalents\n",
    "ranks = {'Hauptschulabschluss': 1, 'Realschulabschluss': 2, 'Gymnasialabschluss': 3, 'Bachelor': 4, 'Master': 5, 'Doktor/PhD': 6,'Professur': 7, 'Kommissarisch': 1, 'Ehrenamtlich': 2,  'Nebenamtlich': 3, 'Hauptamtlich': 4, 'Chistlich Soziale Union in Bayern (CSU)': 1, 'Christlich Demokratische Union Deutschlands (CDU)': 2, 'Freie Wähler': 3, 'Sozialdemokratische Partei Deutschlands (SPD)': 4, 'Bündnis 90/Die Grünen': 5, 'Die Linke': 6}\n",
    "df['voluntary_full_position'] = df['voluntary_full_position'].map(ranks)\n",
    "df['education'] = df['education'].map(ranks)\n",
    "df['partyname'] = df['partyname'].map(ranks)\n"
   ]
  },
  {
   "cell_type": "code",
   "execution_count": 79,
   "metadata": {},
   "outputs": [],
   "source": [
    "#I create variables that will be used to differentiate experimental groups in the analysis part under different model specifications\n",
    "df['Treatment_binary'] = df['Treatment_ID'].apply(lambda x: 1 if x == 1 or x == 2 else 0)\n",
    "df['Treatment_full'] = df['Treatment_ID'].apply(lambda x: 1 if x == 1 else 0)\n",
    "df['Treatment_attrition'] = df['Treatment_ID'].apply(lambda x: 1 if x == 2 else 0)\n",
    "\n",
    "df['ControlvsAttrition'] = np.where(df['Treatment_ID'] == 0, 0, np.where(df['Treatment_ID'] == 2, 1, np.nan))\n",
    "df['ControlvsFull'] = np.where(df['Treatment_ID'] == 0, 0, np.where(df['Treatment_ID'] == 1, 1, np.nan))\n",
    "df['select'] = np.where(df['ControlvsFull'] == 0, 1, np.where(df['ControlvsFull'] == 1, 1, np.nan))\n"
   ]
  },
  {
   "cell_type": "code",
   "execution_count": 80,
   "metadata": {},
   "outputs": [],
   "source": [
    "#switching to the directory where I safe the cleaned data\n",
    "directory2 = Path.home() / 'Desktop' / 'epp_repo' / 'eppfinalproject_moritzraykowski' / 'src' / 'epp_final_project_MoritzRaykowski' / 'data_cleaned'\n",
    "os.chdir(directory2)\n",
    "df.to_excel(\"surveydatawpython.xlsx\", index=False)"
   ]
  }
 ],
 "metadata": {
  "kernelspec": {
   "display_name": "base",
   "language": "python",
   "name": "python3"
  },
  "language_info": {
   "codemirror_mode": {
    "name": "ipython",
    "version": 3
   },
   "file_extension": ".py",
   "mimetype": "text/x-python",
   "name": "python",
   "nbconvert_exporter": "python",
   "pygments_lexer": "ipython3",
   "version": "3.9.13"
  },
  "orig_nbformat": 4,
  "vscode": {
   "interpreter": {
    "hash": "65505731066d34f6d5690228104aefb477c40e2035dffdc95611860067f06d2e"
   }
  }
 },
 "nbformat": 4,
 "nbformat_minor": 2
}
